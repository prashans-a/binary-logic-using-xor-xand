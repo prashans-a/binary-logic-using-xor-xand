{
 "cells": [
  {
   "cell_type": "code",
   "execution_count": 3,
   "id": "3c7f0c4e",
   "metadata": {},
   "outputs": [
    {
     "name": "stdout",
     "output_type": "stream",
     "text": [
      "Enter number of terms: 4\n",
      "Enter your number: 0011\n",
      "FALSE\n",
      "Enter your number: 0001\n",
      "FALSE\n",
      "Enter your number: 0101\n",
      "FALSE\n",
      "Enter your number: 1001\n",
      "FALSE\n"
     ]
    }
   ],
   "source": [
    "from math import gcd\n",
    "n=int(input(\"Enter number of terms: \"))\n",
    "for _ in range(n):\n",
    "    ip=int(input(\"Enter your number: \"))\n",
    "    count=0\n",
    "    if ip<=n:\n",
    "        for i in range(1,ip):\n",
    "            if gcd(i,ip)==1: \n",
    "                count+=1\n",
    "        if count==1 or count==0:\n",
    "            print(\"FALSE\")\n",
    "        else:            \n",
    "            for i in range(2,count+1):\n",
    "                if count%i==0:\n",
    "                    if count==i:\n",
    "                        print(\"TRUE\")\n",
    "                    else:\n",
    "                        print(\"FALSE\")\n",
    "                        break\n",
    "    else:\n",
    "        print(\"FALSE\")"
   ]
  },
  {
   "cell_type": "code",
   "execution_count": null,
   "id": "cc81fe73",
   "metadata": {},
   "outputs": [],
   "source": []
  }
 ],
 "metadata": {
  "kernelspec": {
   "display_name": "Python 3 (ipykernel)",
   "language": "python",
   "name": "python3"
  },
  "language_info": {
   "codemirror_mode": {
    "name": "ipython",
    "version": 3
   },
   "file_extension": ".py",
   "mimetype": "text/x-python",
   "name": "python",
   "nbconvert_exporter": "python",
   "pygments_lexer": "ipython3",
   "version": "3.9.7"
  }
 },
 "nbformat": 4,
 "nbformat_minor": 5
}
